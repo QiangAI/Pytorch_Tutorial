{
 "cells": [
  {
   "cell_type": "markdown",
   "metadata": {},
   "source": [
    "# Pytorch 快速使用手册"
   ]
  },
  {
   "cell_type": "code",
   "execution_count": 2,
   "metadata": {},
   "outputs": [
    {
     "name": "stdout",
     "output_type": "stream",
     "text": [
      "1.2.0+cpu\n"
     ]
    }
   ],
   "source": [
    "import torch\n",
    "import torch.nn as nn\n",
    "import os\n",
    "os.environ[\"CUDA_VISIBLE_DEVICES\"] =\"2\"\n",
    "print(torch.__version__)\n"
   ]
  },
  {
   "cell_type": "markdown",
   "metadata": {},
   "source": [
    "## 查看是否有GPU"
   ]
  },
  {
   "cell_type": "code",
   "execution_count": 35,
   "metadata": {},
   "outputs": [],
   "source": [
    "device = torch.device(\"cuda:0\" if torch.cuda.is_available() else \"cpu\") ##判断是否有gpu\n",
    "if torch.cuda.is_available():\n",
    "    cudnn.benchmark = True\n",
    "\n",
    "    \n",
    "def seed_everything(seed):\n",
    "    random.seed(seed)\n",
    "    os.environ['PYTHONHASHSEED'] = str(seed)\n",
    "    np.random.seed(seed)\n",
    "    torch.manual_seed(seed)\n",
    "    torch.cuda.manual_seed(seed)\n",
    "    torch.backends.cudnn.deterministic = True\n",
    "    torch.backends.cudnn.benchmark = True\n",
    "    torch.backends.cudnn.enabled = True\n",
    "    #tf.set_random_seed(seed)\n",
    "seed_everything(2019)\n"
   ]
  },
  {
   "cell_type": "markdown",
   "metadata": {
    "toc-hr-collapsed": true
   },
   "source": [
    "## 基本命令"
   ]
  },
  {
   "cell_type": "code",
   "execution_count": 8,
   "metadata": {},
   "outputs": [
    {
     "name": "stdout",
     "output_type": "stream",
     "text": [
      "torch.Size([2, 3, 224, 224]) torch.FloatTensor\n",
      "torch.Size([2, 3, 224, 224]) torch.FloatTensor\n",
      "torch.Size([2, 3, 224, 224])\n",
      "tensor([ 0.1459, -2.1029])\n"
     ]
    }
   ],
   "source": [
    "x = torch.randn(2,3,224,224)\n",
    "print(x.size(),x.type())\n",
    "y = torch.randn(2,3,224,224)\n",
    "z = x+y\n",
    "\n",
    "print(z.size(),z.type())\n",
    "print(y.add_(x).size())\n",
    "print(y[1,1,1,:2])\n"
   ]
  },
  {
   "cell_type": "markdown",
   "metadata": {},
   "source": [
    "### torch.Tensor与numpy相互转化"
   ]
  },
  {
   "cell_type": "code",
   "execution_count": 14,
   "metadata": {},
   "outputs": [
    {
     "name": "stdout",
     "output_type": "stream",
     "text": [
      "a: torch.Size([5]) <class 'torch.Tensor'>\n",
      "b: (5,) <class 'numpy.ndarray'>\n",
      "b <class 'numpy.ndarray'>\n",
      "e <class 'torch.Tensor'>\n"
     ]
    }
   ],
   "source": [
    "# torch.Tensor ->numpy\n",
    "a = torch.ones(5)\n",
    "print(\"a:\",a.size(),type(a))\n",
    "b = a.numpy()\n",
    "print('b:',b.shape,type(b))\n",
    "\n",
    "# numpy ->torch.Tensor\n",
    "e=torch.from_numpy(b)\n",
    "print('b',type(b))\n",
    "print('e',type(e))"
   ]
  },
  {
   "cell_type": "markdown",
   "metadata": {},
   "source": [
    "### torch.Tensor与cuda相互转化"
   ]
  },
  {
   "cell_type": "code",
   "execution_count": 16,
   "metadata": {},
   "outputs": [],
   "source": [
    "# torch.Tensor ->cuda \n",
    "x = torch.randn(2,3,224,224)\n",
    "y = torch.randn(2,3,224,224)\n",
    "if torch.cuda.is_available():\n",
    "    x = x.cuda()\n",
    "    x = x.to(device)\n",
    "    y = y.cuda()\n",
    "    x + y\n",
    "\n",
    "# cuda->torch.Tensor \n",
    "b = x.cpu()\n",
    "c = y.cpu()"
   ]
  },
  {
   "cell_type": "markdown",
   "metadata": {},
   "source": [
    "### torch.Tensor与Variable相互转化"
   ]
  },
  {
   "cell_type": "code",
   "execution_count": 15,
   "metadata": {},
   "outputs": [
    {
     "name": "stdout",
     "output_type": "stream",
     "text": [
      "y: <class 'torch.Tensor'> torch.Size([2, 3, 224, 224]) torch.FloatTensor\n",
      "c: torch.FloatTensor torch.Size([2, 3, 224, 224])\n"
     ]
    }
   ],
   "source": [
    "# torch.Tensor ->Variable\n",
    "from torch.autograd import Variable\n",
    "x = torch.randn(2,3,224,224)\n",
    "y = Variable(x)\n",
    "print('y:',type(y),y.size(),y.type())\n",
    "\n",
    "# Variable -> torch.Tensor\n",
    "c=y.data#通过 Variable.data 方法相当于将Variable中的torch.tensor 取出来\n",
    "print('c:',c.type(),c.shape)\n"
   ]
  },
  {
   "cell_type": "markdown",
   "metadata": {},
   "source": [
    "### numpy与list相互转化"
   ]
  },
  {
   "cell_type": "code",
   "execution_count": 19,
   "metadata": {},
   "outputs": [
    {
     "name": "stdout",
     "output_type": "stream",
     "text": [
      "f1: <class 'list'>\n",
      "g: <class 'numpy.ndarray'>\n"
     ]
    }
   ],
   "source": [
    "#  numpy -> list\n",
    "import numpy as np\n",
    "d = np.random.random((2,4))\n",
    "f1=d.tolist()\n",
    "f2=list(d)\n",
    "\n",
    "# list -> numpy\n",
    "g=np.asarray(f2)\n",
    "g=np.array(f2)\n",
    "print('f1:',type(f1))\n",
    "print('g:',type(g))\n"
   ]
  },
  {
   "cell_type": "markdown",
   "metadata": {},
   "source": [
    "### long,int,double,float,byte类型转化"
   ]
  },
  {
   "cell_type": "code",
   "execution_count": 21,
   "metadata": {},
   "outputs": [
    {
     "name": "stdout",
     "output_type": "stream",
     "text": [
      "torch.FloatTensor\n",
      "float: torch.FloatTensor\n",
      "long: torch.LongTensor\n",
      "int: torch.IntTensor\n",
      "double: torch.DoubleTensor\n",
      "byte: torch.ByteTensor\n"
     ]
    }
   ],
   "source": [
    "\n",
    "x = torch.randn(2,3,32,32)\n",
    "print(x.type())\n",
    "y = x.float()\n",
    "print(\"float:\",y.type())\n",
    "y = x.long()\n",
    "print(\"long:\",y.type())\n",
    "y = x.int()\n",
    "print(\"int:\",y.type())\n",
    "y = x.double()\n",
    "print(\"double:\",y.type())\n",
    "y = x.byte()\n",
    "print(\"byte:\",y.type())\n",
    "\n",
    "# # 一般只要在Tensor后加long(), int(), double(),float(),byte()等函数就能将Tensor进行类型转换；\n",
    "# 例如：Torch.LongTensor--->Torch.FloatTensor, 直接使用data.float()即可"
   ]
  },
  {
   "cell_type": "markdown",
   "metadata": {},
   "source": [
    "### Autograd: 自动求导"
   ]
  },
  {
   "cell_type": "code",
   "execution_count": 22,
   "metadata": {},
   "outputs": [
    {
     "name": "stdout",
     "output_type": "stream",
     "text": [
      "x = tensor([[1., 1.],\n",
      "        [1., 1.]], requires_grad=True)\n",
      "x + 2 = tensor([[3., 3.],\n",
      "        [3., 3.]], grad_fn=<AddBackward0>)\n",
      "(x + 2) grad_fn <AddBackward0 object at 0x7fe24c70eb70>\n",
      "x grad_fn None\n"
     ]
    }
   ],
   "source": [
    "x = Variable(torch.ones(2, 2), requires_grad=True)\n",
    "print(\"x =\", x)\n",
    "y = x + 2\n",
    "print(\"x + 2 =\", y)\n",
    "print(\"(x + 2) grad_fn\", y.grad_fn)\n",
    "print(\"x grad_fn\",x.grad_fn)"
   ]
  },
  {
   "cell_type": "code",
   "execution_count": 24,
   "metadata": {},
   "outputs": [
    {
     "name": "stdout",
     "output_type": "stream",
     "text": [
      "tensor([[27., 27.],\n",
      "        [27., 27.]], grad_fn=<MulBackward0>) tensor(27., grad_fn=<MeanBackward0>)\n",
      "x grad= tensor([[4.5000, 4.5000],\n",
      "        [4.5000, 4.5000]])\n"
     ]
    }
   ],
   "source": [
    "z = y * y * 3\n",
    "out = z.mean()\n",
    "\n",
    "print(z, out)\n",
    "out.backward() ## out最好是标量\n",
    "## out = z\n",
    "## out.backward(torch.ones(out.shape))\n",
    "print(\"x grad=\", x.grad)"
   ]
  },
  {
   "cell_type": "markdown",
   "metadata": {},
   "source": [
    "## 搭建数据集"
   ]
  },
  {
   "cell_type": "code",
   "execution_count": null,
   "metadata": {},
   "outputs": [],
   "source": [
    "class Segmentation(object):\n",
    "    def __init__(self, root, mode=None,shuffle=True, transform=None):\n",
    "        super(Segmentation, self).__init__()\n",
    "\n",
    "        self.images, self.masks = _get_pairs(root, mode,shuffle)\n",
    "        self.mode = mode\n",
    "        self.transform = transform\n",
    "        self.shuffle = shuffle\n",
    "        self.num_class = 5\n",
    "\n",
    "    def __getitem__(self, index):\n",
    "\n",
    "        img = cv2.imread(self.images[index])\n",
    "        img = cv2.cvtColor(img, cv2.COLOR_BGR2RGB)\n",
    "        mask = cv2.imread(self.masks[index],-1)\n",
    "        # general resize, normalize and to Tensor\n",
    "        if self.transform is not None:\n",
    "            img = self.transform(img)\n",
    "\n",
    "        return torch.FloatTensor(img), torch.LongTensor(mask)\n",
    "\n",
    "    def __len__(self):\n",
    "        return len(self.images)\n",
    "\n",
    "    @property\n",
    "    def pred_offset(self):\n",
    "        return 1\n",
    "\n",
    "    @property\n",
    "    def classes(self):\n",
    "        \"\"\"Category names.\"\"\"\n",
    "        return (\"0\",\"1\",\"2\",\"3\",\"4\")\n",
    "\n",
    "def _get_pairs(folder, mode='train', shuffle=True):\n",
    "\n",
    "    if mode == 'train':\n",
    "        img_folder = os.path.join(folder, '%d_imgs'%crop_size)\n",
    "        mask_folder = os.path.join(folder, '%d_label'%crop_size)\n",
    "    else:\n",
    "        img_folder = os.path.join(folder, '%d_imgs_val'%crop_size)\n",
    "        mask_folder = os.path.join(folder, '%d_label_val'%crop_size)\n",
    "\n",
    "    img_paths = glob(img_folder+\"/*\")\n",
    "    mask_paths = glob(mask_folder + \"/*\")\n",
    "    if shuffle:\n",
    "        img_paths = np.array(img_paths)\n",
    "        mask_paths = np.array(mask_paths)\n",
    "        index = [i for i in range(len(img_paths))]\n",
    "        np.random.shuffle(index)\n",
    "        img_paths = img_paths[index]\n",
    "        mask_paths = mask_paths[index]\n",
    "\n",
    "    return img_paths, mask_paths\n",
    "\n",
    "# dataset and dataloader\n",
    "input_transform = transforms.Compose([\n",
    "    transforms.ToTensor(),\n",
    "    transforms.Normalize([0.2676, 0.2676, 0.2676], [0.180, 0.180, 0.180]),\n",
    "])\n",
    "data_kwargs = {'transform': input_transform}\n",
    "train_dataset = Segmentation(\"../zz\", mode='train',shuffle=True,**data_kwargs)\n",
    "val_dataset = Segmentation(\"../zz\", mode='val',shuffle=False,**data_kwargs)\n",
    "print(\"train_dataset :\",len(train_dataset))\n",
    "print(\"val_dataset:\",len(val_dataset))\n",
    "train_loader = data.DataLoader(dataset = train_dataset, batch_size= batch_size)\n",
    "val_loader = data.DataLoader(dataset = val_dataset, batch_size= batch_size)\n"
   ]
  },
  {
   "cell_type": "markdown",
   "metadata": {},
   "source": [
    "## 搭建网络"
   ]
  },
  {
   "cell_type": "code",
   "execution_count": 26,
   "metadata": {},
   "outputs": [
    {
     "name": "stdout",
     "output_type": "stream",
     "text": [
      "Net(\n",
      "  (conv1): Conv2d(1, 6, kernel_size=(5, 5), stride=(1, 1))\n",
      "  (conv2): Conv2d(6, 16, kernel_size=(5, 5), stride=(1, 1))\n",
      "  (fc1): Linear(in_features=400, out_features=120, bias=True)\n",
      "  (fc2): Linear(in_features=120, out_features=84, bias=True)\n",
      "  (fc3): Linear(in_features=84, out_features=10, bias=True)\n",
      ")\n"
     ]
    }
   ],
   "source": [
    "import torch\n",
    "from torch.autograd import Variable\n",
    "import torch.nn \n",
    "import torch.nn.functional as F\n",
    "\n",
    "class Net(nn.Module):\n",
    "    def __init__(self):\n",
    "        super(Net, self).__init__()\n",
    "        # 1 input image channel, 6 output channels, 5*5 square convolution\n",
    "        # kernel\n",
    "\n",
    "        self.conv1 = nn.Conv2d(1, 6, 5)\n",
    "        self.conv2 = nn.Conv2d(6, 16, 5)\n",
    "        # an affine operation: y = Wx + b\n",
    "        self.fc1 = nn.Linear(16 * 5 * 5, 120)\n",
    "        self.fc2 = nn.Linear(120, 84)\n",
    "        self.fc3 = nn.Linear(84, 10)\n",
    "\n",
    "    def forward(self, x):\n",
    "        # max pooling over a (2, 2) window\n",
    "        x = F.max_pool2d(F.relu(self.conv1(x)), (2, 2))\n",
    "        # If size is a square you can only specify a single number\n",
    "        x = F.max_pool2d(F.relu(self.conv2(x)), 2)\n",
    "        x = x.view(-1, self.num_flat_features(x))\n",
    "        x = F.relu(self.fc1(x))\n",
    "        x = F.relu(self.fc2(x))\n",
    "        x = self.fc3(x)\n",
    "        return x\n",
    "\n",
    "    def num_flat_features(self, x):\n",
    "        size = x.size()[1:] # all dimensions except the batch dimension\n",
    "        num_features = 1\n",
    "        for s in size:\n",
    "            num_features *= s\n",
    "        return num_features\n",
    "    \n",
    "    def weights_init(self):\n",
    "        for module in self.modules():\n",
    "            if isinstance(module, nn.Conv2d):\n",
    "                nn.init.normal_(module.weight, mean = 0, std = 1)\n",
    "                nn.init.constant_(module.bias, 0)\n",
    "    \n",
    "model = Net()\n",
    "print(model)\n",
    "model.weights_init()\n",
    "for module in model.modules():\n",
    "    if isinstance(module, nn.Conv2d):\n",
    "        weights = module.weight\n",
    "        weights = weights.reshape(-1).detach().cpu().numpy()\n",
    "        print(module.bias)                                       # Bias to zero\n",
    "        plt.hist(weights)\n",
    "        plt.show()"
   ]
  },
  {
   "cell_type": "markdown",
   "metadata": {},
   "source": [
    "### modules() vs children()"
   ]
  },
  {
   "cell_type": "code",
   "execution_count": 3,
   "metadata": {},
   "outputs": [
    {
     "name": "stdout",
     "output_type": "stream",
     "text": [
      "Printing children\n",
      "------------------------------\n",
      "[Sequential(\n",
      "  (0): Conv2d(10, 10, kernel_size=(3, 3), stride=(1, 1))\n",
      "  (1): BatchNorm2d(10, eps=1e-05, momentum=0.1, affine=True, track_running_stats=True)\n",
      "), Linear(in_features=10, out_features=2, bias=True)]\n",
      "\n",
      "\n",
      "Printing Modules\n",
      "------------------------------\n",
      "[myNet(\n",
      "  (convBN): Sequential(\n",
      "    (0): Conv2d(10, 10, kernel_size=(3, 3), stride=(1, 1))\n",
      "    (1): BatchNorm2d(10, eps=1e-05, momentum=0.1, affine=True, track_running_stats=True)\n",
      "  )\n",
      "  (linear): Linear(in_features=10, out_features=2, bias=True)\n",
      "), Sequential(\n",
      "  (0): Conv2d(10, 10, kernel_size=(3, 3), stride=(1, 1))\n",
      "  (1): BatchNorm2d(10, eps=1e-05, momentum=0.1, affine=True, track_running_stats=True)\n",
      "), Conv2d(10, 10, kernel_size=(3, 3), stride=(1, 1)), BatchNorm2d(10, eps=1e-05, momentum=0.1, affine=True, track_running_stats=True), Linear(in_features=10, out_features=2, bias=True)]\n"
     ]
    }
   ],
   "source": [
    "class myNet(nn.Module):\n",
    "    def __init__(self):\n",
    "        super().__init__()\n",
    "        self.convBN =  nn.Sequential(nn.Conv2d(10,10,3), nn.BatchNorm2d(10))\n",
    "        self.linear =  nn.Linear(10,2)\n",
    "\n",
    "    def forward(self, x):\n",
    "        pass\n",
    "\n",
    "Net = myNet()\n",
    "# Net = myNet().half() ## 指定模型为半精度运行\n",
    "\n",
    "print(\"Printing children\\n------------------------------\")\n",
    "print(list(Net.children()))\n",
    "print(\"\\n\\nPrinting Modules\\n------------------------------\")\n",
    "print(list(Net.modules()))"
   ]
  },
  {
   "cell_type": "markdown",
   "metadata": {},
   "source": [
    "### 打印网络信息"
   ]
  },
  {
   "cell_type": "code",
   "execution_count": 4,
   "metadata": {},
   "outputs": [
    {
     "name": "stdout",
     "output_type": "stream",
     "text": [
      " myNet(\n",
      "  (convBN): Sequential(\n",
      "    (0): Conv2d(10, 10, kernel_size=(3, 3), stride=(1, 1))\n",
      "    (1): BatchNorm2d(10, eps=1e-05, momentum=0.1, affine=True, track_running_stats=True)\n",
      "  )\n",
      "  (linear): Linear(in_features=10, out_features=2, bias=True)\n",
      ") \n",
      "-------------------------------\n",
      "convBN Sequential(\n",
      "  (0): Conv2d(10, 10, kernel_size=(3, 3), stride=(1, 1))\n",
      "  (1): BatchNorm2d(10, eps=1e-05, momentum=0.1, affine=True, track_running_stats=True)\n",
      ") \n",
      "-------------------------------\n",
      "convBN.0 Conv2d(10, 10, kernel_size=(3, 3), stride=(1, 1)) \n",
      "-------------------------------\n",
      "convBN.1 BatchNorm2d(10, eps=1e-05, momentum=0.1, affine=True, track_running_stats=True) \n",
      "-------------------------------\n",
      "linear Linear(in_features=10, out_features=2, bias=True) \n",
      "-------------------------------\n"
     ]
    }
   ],
   "source": [
    "for x in Net.named_modules():\n",
    "  print(x[0], x[1], \"\\n-------------------------------\")"
   ]
  },
  {
   "cell_type": "markdown",
   "metadata": {},
   "source": [
    "### 不同的层设置不同的学习率"
   ]
  },
  {
   "cell_type": "code",
   "execution_count": null,
   "metadata": {},
   "outputs": [],
   "source": [
    "class myNet(nn.Module):\n",
    "    def __init__(self):\n",
    "        super().__init__()\n",
    "        self.fc1 = nn.Linear(10,5)\n",
    "        self.fc2 = nn.Linear(5,2)\n",
    "\n",
    "    def forward(self, x):\n",
    "        return self.fc2(self.fc1(x))\n",
    "\n",
    "Net = myNet()\n",
    "# optimiser = torch.optim.SGD(Net.parameters(), lr = 0.5)\n",
    "\n",
    "#######################################################################################################\n",
    "optimiser = torch.optim.SGD([{\"params\": Net.fc1.parameters(), 'lr' : 0.001, \"momentum\" : 0.99},\n",
    "                             {\"params\": Net.fc2.parameters()}], lr = 0.01, momentum = 0.9)\n",
    "\n",
    "\n",
    "#######################################################################################################\n",
    "params_bias = []\n",
    "params_wts = []\n",
    "# seperate the bias and weights parameters\n",
    "for name, parameter in Net.named_parameters():\n",
    "  if \"bias\" in name:\n",
    "    params_bias.append(parameter)\n",
    "  elif \"weight\" in name:\n",
    "    params_wts.append(parameter)\n",
    "\n",
    "# Set the optimiser to have different hyperparameters for bias and weights\n",
    "optimiser = torch.optim.SGD([{\"params\": params_bias, 'lr' : 0.001, \"momentum\" : 0.99},\n",
    "                             {\"params\": params_wts}], lr = 0.01, momentum = 0.9)"
   ]
  },
  {
   "cell_type": "markdown",
   "metadata": {
    "toc-hr-collapsed": false
   },
   "source": [
    "## 获得网络信息"
   ]
  },
  {
   "cell_type": "markdown",
   "metadata": {},
   "source": [
    "### 保存和加载网络模型"
   ]
  },
  {
   "cell_type": "code",
   "execution_count": null,
   "metadata": {},
   "outputs": [],
   "source": [
    "torch.save(Net, \"net.pth\")\n",
    "Net = torch.load(\"net.pth\")\n",
    "print(Net)\n",
    "\n",
    "# Save and load only the model parameters (recommended).\n",
    "torch.save(resnet.state_dict(), 'params.ckpt')\n",
    "resnet.load_state_dict(torch.load('params.ckpt'))"
   ]
  },
  {
   "cell_type": "markdown",
   "metadata": {},
   "source": [
    "### 获得网络的权重信息\n"
   ]
  },
  {
   "cell_type": "code",
   "execution_count": 30,
   "metadata": {},
   "outputs": [
    {
     "name": "stdout",
     "output_type": "stream",
     "text": [
      "layer: conv1.weight torch.Size([6, 1, 5, 5])\n",
      "layer: conv1.bias torch.Size([6])\n",
      "layer: conv2.weight torch.Size([16, 6, 5, 5])\n",
      "layer: conv2.bias torch.Size([16])\n",
      "layer: fc1.weight torch.Size([120, 400])\n",
      "layer: fc1.bias torch.Size([120])\n",
      "layer: fc2.weight torch.Size([84, 120])\n",
      "layer: fc2.bias torch.Size([84])\n",
      "layer: fc3.weight torch.Size([10, 84])\n",
      "layer: fc3.bias torch.Size([10])\n"
     ]
    }
   ],
   "source": [
    "model_dict = net.state_dict()\n",
    "for k,v in model_dict.items():\n",
    "    print(\"layer:\",k,v.size())"
   ]
  },
  {
   "cell_type": "markdown",
   "metadata": {},
   "source": [
    "### 加载网络预训练权重模型"
   ]
  },
  {
   "cell_type": "code",
   "execution_count": 31,
   "metadata": {},
   "outputs": [],
   "source": [
    "def load_pretrainedweights(model, pretrained_model):\n",
    "    model_dict = model.state_dict()\n",
    "    pretrained_dict = torch.load(pretrained_model)\n",
    "    pretrained_dict = {k: v for k, v in pretrained_dict.items() if k in model_dict}\n",
    "    model_dict.update(pretrained_dict)\n",
    "    model.load_state_dict(model_dict)\n",
    "    return model\n",
    "\n",
    "load_pretrainedweights(model,pretrained_model=\"model.ckpt\")"
   ]
  },
  {
   "cell_type": "markdown",
   "metadata": {},
   "source": [
    "### 检查模型是否正确加载权重"
   ]
  },
  {
   "cell_type": "code",
   "execution_count": null,
   "metadata": {},
   "outputs": [],
   "source": [
    "def check_weight_loaded( ):\n",
    "\n",
    "    model =  EfficientNet_B4()\n",
    "    model_dict_v1 = model.state_dict()\n",
    "    model =  EfficientNet_B4()\n",
    "    model_dict_v2 = model.state_dict()\n",
    "    for k in model_dict_v1.keys():\n",
    "        try:\n",
    "            assert model_dict_v1[k].data.numpy().all() == model_dict_v2[k].data.numpy().all()\n",
    "        except AssertionError as e:\n",
    "            print(\"failed to load weights!\")\n",
    "            break\n",
    "    else:\n",
    "        print(\"--> model weight loading is  successful!\")\n"
   ]
  },
  {
   "cell_type": "markdown",
   "metadata": {},
   "source": [
    "### 模型权重初始化"
   ]
  },
  {
   "cell_type": "code",
   "execution_count": null,
   "metadata": {},
   "outputs": [],
   "source": [
    "import  torch.nn from init\n",
    "def weights_init_normal(m):\n",
    "    classname = m.__class__.__name__\n",
    "    if classname.find('Conv')!=\"-1\":\n",
    "        init.normal(m.weight.data, 0.0, 0.02)\n",
    "    elif classname.find('Linear')!=\"-1\":\n",
    "        init.normal(m.weight.data, 0.0, 0.02)\n",
    "    elif classname.find('BatchNorm2d')!=\"-1\":\n",
    "        init.normal(m.weight.data, 1.0, 0.02)\n",
    "        init.constant(m.bias.data, 0.0)\n",
    "        \n",
    "model.apply(weights_init_normal)"
   ]
  },
  {
   "cell_type": "markdown",
   "metadata": {},
   "source": [
    "### 加载网络模型"
   ]
  },
  {
   "cell_type": "code",
   "execution_count": null,
   "metadata": {},
   "outputs": [],
   "source": [
    "model.load_state_dict(torch.load(weight_path, map_location=lambda storage, loc: storage))\n",
    "model.load_state_dict(torch.load(weight_path, map_location='cpu'))\n",
    "model = model.module#才是你的模型            "
   ]
  },
  {
   "cell_type": "markdown",
   "metadata": {},
   "source": [
    "### 获得网络的中间某一层的输出和参数量\n"
   ]
  },
  {
   "cell_type": "code",
   "execution_count": 33,
   "metadata": {},
   "outputs": [
    {
     "name": "stdout",
     "output_type": "stream",
     "text": [
      "Net(\n",
      "  (conv1): Conv2d(1, 6, kernel_size=(5, 5), stride=(1, 1))\n",
      "  (conv2): Conv2d(6, 16, kernel_size=(5, 5), stride=(1, 1))\n",
      "  (fc1): Linear(in_features=400, out_features=120, bias=True)\n",
      "  (fc2): Linear(in_features=120, out_features=84, bias=True)\n",
      "  (fc3): Linear(in_features=84, out_features=10, bias=True)\n",
      ")\n",
      "----------------------------------------------------------------\n",
      "        Layer (type)               Output Shape         Param #\n",
      "================================================================\n",
      "            Conv2d-1            [-1, 6, 28, 28]             156\n",
      "            Conv2d-2           [-1, 16, 10, 10]           2,416\n",
      "            Linear-3                  [-1, 120]          48,120\n",
      "            Linear-4                   [-1, 84]          10,164\n",
      "            Linear-5                   [-1, 10]             850\n",
      "================================================================\n",
      "Total params: 61,706\n",
      "Trainable params: 61,706\n",
      "Non-trainable params: 0\n",
      "----------------------------------------------------------------\n",
      "Input size (MB): 0.00\n",
      "Forward/backward pass size (MB): 0.05\n",
      "Params size (MB): 0.24\n",
      "Estimated Total Size (MB): 0.29\n",
      "----------------------------------------------------------------\n"
     ]
    }
   ],
   "source": [
    "print(net)\n",
    "from torchsummary import summary\n",
    "summary(net,(1,32,32))"
   ]
  },
  {
   "cell_type": "markdown",
   "metadata": {},
   "source": [
    "### 数据并行"
   ]
  },
  {
   "cell_type": "code",
   "execution_count": 38,
   "metadata": {},
   "outputs": [],
   "source": [
    "if torch.cuda.device_count() > 1:\n",
    "    model = nn.DataParallel(model)\n",
    "print(\"model parameters device:\", next(model.parameters()).is_cuda)"
   ]
  },
  {
   "cell_type": "markdown",
   "metadata": {},
   "source": [
    "## 迁移学习"
   ]
  },
  {
   "cell_type": "code",
   "execution_count": null,
   "metadata": {},
   "outputs": [],
   "source": [
    "# Download and load the pretrained ResNet-18.\n",
    "from torchvision.models import resnet18\n",
    "\n",
    "resnet = resnet18(pretrained=True)\n",
    "# If you want to finetune only the top layer of the model, set as below.\n",
    "for param in resnet.parameters():\n",
    "    param.requires_grad = False\n",
    "\n",
    "# Replace the top layer for finetuning.\n",
    "resnet.fc = nn.Linear(resnet.fc.in_features, 100)  # 100 is an example.\n",
    "\n",
    "# Forward pass.\n",
    "images = torch.randn(64, 3, 224, 224)\n",
    "outputs = resnet(images)\n",
    "print (outputs.size())     # (64, 100)"
   ]
  },
  {
   "cell_type": "markdown",
   "metadata": {},
   "source": [
    "## hook\n",
    "\n",
    "由于pytorch会自动舍弃图计算的中间结果，所以想要获取这些数值就需要使用钩子函数。\n",
    "钩子函数包括Variable的钩子和nn.Module钩子，用法相似。"
   ]
  },
  {
   "cell_type": "markdown",
   "metadata": {},
   "source": [
    "### register_hook"
   ]
  },
  {
   "cell_type": "code",
   "execution_count": null,
   "metadata": {},
   "outputs": [],
   "source": [
    "import torch\n",
    "from torch.autograd import Variable\n",
    "\n",
    "grad_list = []\n",
    "def print_grad(grad):\n",
    "    grad_list.append(grad)\n",
    "\n",
    "x = Variable(torch.ones(2, 1), requires_grad=True)\n",
    "y = x + 2\n",
    "z = torch.mean(torch.pow(y, 2))\n",
    "lr = 1e-3\n",
    "y.register_hook(print)\n",
    "y.register_hook(print_grad)\n",
    "z.backward()\n",
    "x.data -= lr * x.grad.data\n",
    "print(grad_list)"
   ]
  },
  {
   "cell_type": "code",
   "execution_count": 5,
   "metadata": {},
   "outputs": [
    {
     "name": "stdout",
     "output_type": "stream",
     "text": [
      "Linear(in_features=160, out_features=5, bias=True)\n",
      "------------Input Grad------------\n",
      "torch.Size([5])\n",
      "torch.Size([5])\n",
      "------------Output Grad------------\n",
      "torch.Size([5])\n",
      "\n",
      "\n",
      "Conv2d(3, 10, kernel_size=(2, 2), stride=(2, 2))\n",
      "------------Input Grad------------\n",
      "None found for Gradient\n",
      "torch.Size([10, 3, 2, 2])\n",
      "torch.Size([10])\n",
      "------------Output Grad------------\n",
      "torch.Size([1, 10, 4, 4])\n",
      "\n",
      "\n"
     ]
    }
   ],
   "source": [
    "import torch \n",
    "import torch.nn as nn\n",
    "\n",
    "def hook_fn(m, i, o):\n",
    "    print(m)\n",
    "    print(\"------------Input Grad------------\")\n",
    "\n",
    "    for grad in i:\n",
    "        try:\n",
    "            print(grad.shape)\n",
    "        except AttributeError: \n",
    "            print (\"None found for Gradient\")\n",
    "\n",
    "    print(\"------------Output Grad------------\")\n",
    "    for grad in o:  \n",
    "        try:\n",
    "            print(grad.shape)\n",
    "        except AttributeError: \n",
    "            print (\"None found for Gradient\")\n",
    "    print(\"\\n\")\n",
    "\n",
    "class myNet(nn.Module):\n",
    "    def __init__(self):\n",
    "        super().__init__()\n",
    "        self.conv = nn.Conv2d(3,10,2, stride = 2)\n",
    "        self.relu = nn.ReLU()\n",
    "        self.flatten = lambda x: x.view(-1)\n",
    "        self.fc1 = nn.Linear(160,5)\n",
    "   \n",
    "  \n",
    "    def forward(self, x):\n",
    "        x = self.relu(self.conv(x))\n",
    "        return self.fc1(self.flatten(x))\n",
    "\n",
    "net = myNet()\n",
    "\n",
    "net.conv.register_backward_hook(hook_fn)\n",
    "net.fc1.register_backward_hook(hook_fn)\n",
    "inp = torch.randn(1,3,8,8)\n",
    "out = net(inp)\n",
    "(1 - out.mean()).backward()"
   ]
  },
  {
   "cell_type": "code",
   "execution_count": 8,
   "metadata": {},
   "outputs": [],
   "source": [
    "visualisation = {}\n",
    "\n",
    "inp = torch.randn(1,3,8,8)\n",
    "\n",
    "def hook_fn(m, i, o):\n",
    "    visualisation[m] = o \n",
    "\n",
    "net = myNet()\n",
    "\n",
    "for name, layer in net._modules.items():\n",
    "    layer.register_forward_hook(hook_fn)\n",
    "\n",
    "out = net(inp) "
   ]
  },
  {
   "cell_type": "markdown",
   "metadata": {},
   "source": [
    "## 常用的损失函数"
   ]
  },
  {
   "cell_type": "code",
   "execution_count": 37,
   "metadata": {},
   "outputs": [],
   "source": [
    "\n",
    "def dice_loss(logits,true, eps=1e-7):\n",
    "    \"\"\"Computes the Sørensen–Dice loss.\n",
    "    Note that PyTorch optimizers minimize a loss. In this\n",
    "    case, we would like to maximize the dice loss so we\n",
    "    return the negated dice loss.\n",
    "    Args:\n",
    "        true: a tensor of shape [B, 1, H, W].\n",
    "        logits: a tensor of shape [B, C, H, W]. Corresponds to\n",
    "            the raw output or logits of the model.\n",
    "        eps: added to the denominator for numerical stability.\n",
    "    Returns:\n",
    "        dice_loss: the Sørensen–Dice loss.\n",
    "    \"\"\"\n",
    "    num_classes = logits.shape[1]\n",
    "    if num_classes == 1:\n",
    "        true_1_hot = torch.eye(num_classes + 1)[true.squeeze(1)]\n",
    "        true_1_hot = true_1_hot.permute(0, 3, 1, 2).float()\n",
    "        true_1_hot_f = true_1_hot[:, 0:1, :, :]\n",
    "        true_1_hot_s = true_1_hot[:, 1:2, :, :]\n",
    "        true_1_hot = torch.cat([true_1_hot_s, true_1_hot_f], dim=1)\n",
    "        pos_prob = torch.sigmoid(logits)\n",
    "        neg_prob = 1 - pos_prob\n",
    "        probas = torch.cat([pos_prob, neg_prob], dim=1)\n",
    "    else:\n",
    "        true_1_hot = torch.eye(num_classes)[true.squeeze(1)]\n",
    "        true_1_hot = true_1_hot.permute(0, 3, 1, 2).float()\n",
    "        probas = F.softmax(logits, dim=1)\n",
    "    true_1_hot = true_1_hot.type(logits.type())\n",
    "    dims = (0,) + tuple(range(2, true.ndimension()))\n",
    "    intersection = torch.sum(probas * true_1_hot, dims)\n",
    "    cardinality = torch.sum(probas + true_1_hot, dims)\n",
    "    dice_loss = (2. * intersection / (cardinality + eps)).mean()\n",
    "    return (1 - dice_loss)\n",
    "\n",
    "\n",
    "criterion = nn.CrossEntropyLoss().to(device)\n",
    "criterion = nn.BCELoss().to(device)\n",
    "criterion = dice_loss"
   ]
  },
  {
   "cell_type": "markdown",
   "metadata": {},
   "source": [
    "### 自定义损失函数"
   ]
  },
  {
   "cell_type": "code",
   "execution_count": 5,
   "metadata": {},
   "outputs": [
    {
     "name": "stdout",
     "output_type": "stream",
     "text": [
      "Epoch [5/60], Loss: 0.2952\n",
      "Epoch [10/60], Loss: 0.2376\n",
      "Epoch [15/60], Loss: 0.2142\n",
      "Epoch [20/60], Loss: 0.2047\n",
      "Epoch [25/60], Loss: 0.2008\n",
      "Epoch [30/60], Loss: 0.1991\n",
      "Epoch [35/60], Loss: 0.1984\n",
      "Epoch [40/60], Loss: 0.1981\n",
      "Epoch [45/60], Loss: 0.1979\n",
      "Epoch [50/60], Loss: 0.1978\n",
      "Epoch [55/60], Loss: 0.1977\n",
      "Epoch [60/60], Loss: 0.1976\n"
     ]
    }
   ],
   "source": [
    "import torch\n",
    "import torch.nn as nn\n",
    "import numpy as np\n",
    "import matplotlib.pyplot as plt\n",
    "\n",
    "# 1:自定义损失函数\n",
    "def my_mse_loss(x, y):\n",
    "    return torch.mean(torch.pow((x - y), 2))\n",
    "\n",
    "## 2: 继承nn.Mdule\n",
    "class My_loss(nn.Module):\n",
    "    def __init__(self):\n",
    "        super().__init__()\n",
    "\n",
    "    def forward(self, x, y):\n",
    "        return torch.mean(torch.pow((x - y), 2))\n",
    "\n",
    "    \n",
    "\n",
    "\n",
    "x_train = np.array([[3.3], [4.4], [5.5], [6.71], [6.93], [4.168],\n",
    "                    [9.779], [6.182], [7.59], [2.167], [7.042],\n",
    "                    [10.791], [5.313], [7.997], [3.1]], dtype=np.float32)\n",
    "\n",
    "y_train = np.array([[1.7], [2.76], [2.09], [3.19], [1.694], [1.573],\n",
    "                    [3.366], [2.596], [2.53], [1.221], [2.827],\n",
    "                    [3.465], [1.65], [2.904], [1.3]], dtype=np.float32)\n",
    "\n",
    "# 将numpy数据转化为torch的张量\n",
    "inputs = torch.from_numpy(x_train)\n",
    "targets = torch.from_numpy(y_train)\n",
    "\n",
    "input_size = 1\n",
    "output_size = 1\n",
    "num_epochs = 60\n",
    "learning_rate = 0.001\n",
    "\n",
    "# 第三步： 构建模型，构建一个一层的网络模型\n",
    "model = nn.Linear(input_size, output_size)\n",
    "\n",
    "# 与模型相关的配置、损失函数、优化方式\n",
    "# 使用自定义函数，等价于criterion = nn.MSELoss()\n",
    "criterion = My_loss()\n",
    "\n",
    "# 定义迭代优化算法， 使用的是随机梯度下降算法\n",
    "optimizer = torch.optim.SGD(model.parameters(), lr=learning_rate)\n",
    "loss_history = []\n",
    "# 第四步：训练模型，迭代训练\n",
    "for epoch in range(num_epochs):\n",
    "    #  前向传播计算网络结构的输出结果\n",
    "    outputs = model(inputs)\n",
    "\n",
    "    # 计算损失函数\n",
    "    loss = criterion(outputs, targets)\n",
    "\n",
    "    # 反向传播更新参数，三步策略，归零梯度——>反向传播——>更新参数\n",
    "    optimizer.zero_grad()\n",
    "    loss.backward()\n",
    "    optimizer.step()\n",
    "    # 打印训练信息和保存loss\n",
    "    loss_history.append(loss.item())\n",
    "    if (epoch + 1) % 5 == 0:\n",
    "        print('Epoch [{}/{}], Loss: {:.4f}'.format(epoch + 1, num_epochs, loss.item()))"
   ]
  },
  {
   "cell_type": "code",
   "execution_count": 2,
   "metadata": {},
   "outputs": [
    {
     "data": {
      "image/png": "[encoded data removed]",
      "text/plain": [
       "<Figure size 432x288 with 1 Axes>"
      ]
     },
     "metadata": {
      "needs_background": "light"
     },
     "output_type": "display_data"
    },
    {
     "data": {
      "image/png": "[encoded data removed]",
      "text/plain": [
       "<Figure size 432x288 with 1 Axes>"
      ]
     },
     "metadata": {
      "needs_background": "light"
     },
     "output_type": "display_data"
    }
   ],
   "source": [
    "# 第五步：结果展示。画出原y与x的曲线与网络结构拟合后的曲线\n",
    "predicted = model(torch.from_numpy(x_train)).detach().numpy()  # 模型输出结果\n",
    "\n",
    "plt.plot(x_train, y_train, 'ro', label='Original data')  # 原始数据\n",
    "plt.plot(x_train, predicted, label='Fitted line')  # 拟合之后的直线\n",
    "plt.legend()\n",
    "plt.show()\n",
    "\n",
    "# 画loss在迭代过程中的变化情况\n",
    "plt.plot(loss_history, label='loss for every epoch')\n",
    "plt.legend()\n",
    "plt.show()"
   ]
  },
  {
   "cell_type": "markdown",
   "metadata": {},
   "source": [
    "### NLLLoss和CrossEntropyLoss"
   ]
  },
  {
   "cell_type": "code",
   "execution_count": 6,
   "metadata": {},
   "outputs": [
    {
     "name": "stdout",
     "output_type": "stream",
     "text": [
      "x: tensor([[ 0.3429,  0.9050, -2.3298],\n",
      "        [ 1.8048, -2.6157, -0.1287],\n",
      "        [ 0.0999, -1.1667,  0.7500],\n",
      "        [-0.6020, -0.1751,  0.4742]])\n",
      "softmax x: tensor([[0.3542, 0.6214, 0.0245],\n",
      "        [0.8645, 0.0104, 0.1251],\n",
      "        [0.3127, 0.0881, 0.5991],\n",
      "        [0.1829, 0.2804, 0.5367]])\n",
      "log: tensor([[-1.0379, -0.4759, -3.7107],\n",
      "        [-0.1456, -4.5660, -2.0790],\n",
      "        [-1.1624, -2.4289, -0.5123],\n",
      "        [-1.6986, -1.2716, -0.6224]])\n",
      "NLLLoss: tensor(1.7044)\n",
      "CrossEntropyLoss : tensor(1.7044)\n"
     ]
    }
   ],
   "source": [
    "\n",
    "import torch.nn as nn\n",
    "x=torch.randn(4,3)\n",
    "print(\"x:\", x)\n",
    "sm = nn.Softmax(dim =1)\n",
    "print(\"softmax x:\", sm(x))\n",
    "print(\"log:\", torch.log(sm(x)))\n",
    "\n",
    "loss = nn.NLLLoss()\n",
    "target = torch.tensor([0,2,1,1])\n",
    "print(\"NLLLoss:\",loss(torch.log(sm(x)),target))\n",
    "\n",
    "loss = nn.CrossEntropyLoss() # Softmax–Log–NLLLoss\n",
    "print(\"CrossEntropyLoss :\", loss(x, target))"
   ]
  },
  {
   "cell_type": "markdown",
   "metadata": {},
   "source": [
    "### BCEWithLogitsLoss和BCELOSS"
   ]
  },
  {
   "cell_type": "code",
   "execution_count": 12,
   "metadata": {},
   "outputs": [
    {
     "name": "stdout",
     "output_type": "stream",
     "text": [
      "x: tensor([[-1.1235, -0.0948, -0.8286],\n",
      "        [ 0.8362, -1.9370,  0.7749],\n",
      "        [ 1.1140, -0.2855,  1.0280]])\n",
      "Sigmoid x: tensor([[0.2454, 0.4763, 0.3039],\n",
      "        [0.6977, 0.1260, 0.6846],\n",
      "        [0.7529, 0.4291, 0.7365]])\n",
      "BCELoss : tensor(0.8267)\n",
      "CrossEntropyLoss : tensor(0.8267)\n"
     ]
    }
   ],
   "source": [
    "import torch.nn as nn\n",
    "x=torch.randn(3,3)\n",
    "print(\"x:\", x)\n",
    "sm = nn.Sigmoid()\n",
    "print(\"Sigmoid x:\", sm(x))\n",
    "\n",
    "\n",
    "target = torch.FloatTensor([[0,1,1],[1,0,0],[0,1,0]])\n",
    "loss = nn.BCELoss() # Sigmoid-BCELoss\n",
    "print(\"BCELoss :\", loss(sm(x), target))\n",
    "\n",
    "loss = nn.BCEWithLogitsLoss() # Sigmoid-BCELoss\n",
    "print(\"CrossEntropyLoss :\", loss(x, target))\n"
   ]
  },
  {
   "cell_type": "markdown",
   "metadata": {},
   "source": [
    "## 常见的指标"
   ]
  },
  {
   "cell_type": "code",
   "execution_count": null,
   "metadata": {},
   "outputs": [],
   "source": [
    "\n",
    "predict = output.argmax(dim = 1)\n",
    "confusion_matrix =torch.zeros(2,2)\n",
    "for p,t in zip(predict.view(-1), target.view(-1)):\n",
    "    confusion_matrix[t.long(), p.long()] += 1\n",
    "a_p =(confusion_matrix.diag() / confusion_matrix.sum(1))[0]\n",
    "b_p = (confusion_matrix.diag() / confusion_matrix.sum(1))[1]\n",
    "a_r =(confusion_matrix.diag() / confusion_matrix.sum(0))[0]\n",
    "b_r = (confusion_matrix.diag() / confusion_matrix.sum(0))[1]\n"
   ]
  },
  {
   "cell_type": "markdown",
   "metadata": {},
   "source": [
    "## 常用的优化器\n"
   ]
  },
  {
   "cell_type": "code",
   "execution_count": null,
   "metadata": {},
   "outputs": [],
   "source": [
    "optimizer = torch.optim.SGD(model.parameters(),\n",
    "                                 lr=lr,\n",
    "                                 momentum=momentum,\n",
    "                                 weight_decay=weight_decay)"
   ]
  },
  {
   "cell_type": "markdown",
   "metadata": {},
   "source": [
    "## 常用的学习率"
   ]
  },
  {
   "cell_type": "code",
   "execution_count": null,
   "metadata": {},
   "outputs": [],
   "source": [
    "# lr scheduling\n",
    "lr_scheduler = WarmupPolyLR(optimizer,\n",
    "                                 max_iters=epochs * iters_per_epoch,\n",
    "                                 power=0.9,\n",
    "                                 warmup_factor=warmup_factor,\n",
    "                                 warmup_iters=warmup_iters,\n",
    "                                 warmup_method=warmup_method)"
   ]
  },
  {
   "cell_type": "code",
   "execution_count": null,
   "metadata": {},
   "outputs": [],
   "source": [
    "scheduler = torch.optim.lr_scheduler.MultiStepLR(optimiser, milestones = [10,20], gamma = 0.1)\n",
    "scheduler.step()"
   ]
  },
  {
   "cell_type": "markdown",
   "metadata": {
    "toc-hr-collapsed": false
   },
   "source": [
    "## 训练过程"
   ]
  },
  {
   "cell_type": "code",
   "execution_count": null,
   "metadata": {},
   "outputs": [],
   "source": [
    "def training_loop(n_epochs, optimizer, model, loss_fn, trian_dataset, val_dataset):\n",
    "    from tqdm import tqdm\n",
    "    from collections import deque\n",
    "    \n",
    "    train_loss = deque(maxlen=20)\n",
    "    \n",
    "    for epoch in range(1,n_epochs+1):\n",
    "    \n",
    "        model.train()\n",
    "        for index,(image,label) in tqdm(enumerate(trian_dataset)):\n",
    "            \n",
    "            image = image.to(device)\n",
    "            label = label.to(device)\n",
    "            model = model.to(device)\n",
    "            \n",
    "            train_preds = model(image)\n",
    "            loss_train = loss_fn(train_preds, label).to(device)\n",
    "            train_loss.append(loss_train.item())\n",
    "            \n",
    "            optimizer.zero_grad()\n",
    "            loss_train.backword()\n",
    "            optimizer.step()\n",
    "        \n",
    "        torch.cuda.empty_cache()\n",
    "        model.eval()\n",
    "        val_loss = []\n",
    "        with torch.no_grad():\n",
    "            for index,(image,label) in tqdm(enumerate(val_dataset)):\n",
    "                image = image.to(device)\n",
    "                label = label.to(device)\n",
    "                model = model.to(device)\n",
    "                \n",
    "                val_preds = model(image)\n",
    "                loss_val = loss_fn(val_preds, label).to(device)\n",
    "                val_loss.append(loss_val.item())\n",
    "        \n",
    "        print(\"\\nepoch:{:d}/{:d}, Lr:{:.6f},Loss:{:.4f},val_loss:{:.4f}\".\n",
    "          format(epoch, n_epochs+1, optimizer.param_groups[0]['lr'],np.mean(trian_loss), np.mean(val_loss)))"
   ]
  },
  {
   "cell_type": "markdown",
   "metadata": {},
   "source": [
    "### 保持训练记录到csv文件"
   ]
  },
  {
   "cell_type": "code",
   "execution_count": null,
   "metadata": {},
   "outputs": [],
   "source": [
    "import pandas as pd\n",
    "train_history = np.random.random(1000,6)\n",
    "x = pd.DataFrame(train_history)\n",
    "x.columns= ['Loss', 'val_loss', 'val_pixAcc', 'train_pixAcc', 'val_mIoU', 'train_mIoU']\n",
    "x.to_csv(\"./checkpoint/%s.csv\"%model_name, index=False)"
   ]
  },
  {
   "cell_type": "code",
   "execution_count": null,
   "metadata": {},
   "outputs": [],
   "source": [
    "## 显示gpu\n",
    "!pip install gputil\n",
    "from GPUtil import showUtilization as gpu_usage\n",
    "gpu_usage()"
   ]
  }
 ],
 "metadata": {
  "kernelspec": {
   "display_name": "Python 3",
   "language": "python",
   "name": "python3"
  },
  "language_info": {
   "codemirror_mode": {
    "name": "ipython",
    "version": 3
   },
   "file_extension": ".py",
   "mimetype": "text/x-python",
   "name": "python",
   "nbconvert_exporter": "python",
   "pygments_lexer": "ipython3",
   "version": "3.7.3"
  },
  "pycharm": {
   "stem_cell": {
    "cell_type": "raw",
    "metadata": {
     "collapsed": false
    },
    "source": []
   }
  },
  "toc-autonumbering": true
 },
 "nbformat": 4,
 "nbformat_minor": 4
}
